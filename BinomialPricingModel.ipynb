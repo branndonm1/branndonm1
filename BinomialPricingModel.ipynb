{
  "nbformat": 4,
  "nbformat_minor": 0,
  "metadata": {
    "colab": {
      "provenance": [],
      "toc_visible": true,
      "authorship_tag": "ABX9TyOXuzazGfeXlX9ZsfxSTz+r",
      "include_colab_link": true
    },
    "kernelspec": {
      "name": "python3",
      "display_name": "Python 3"
    },
    "language_info": {
      "name": "python"
    }
  },
  "cells": [
    {
      "cell_type": "markdown",
      "metadata": {
        "id": "view-in-github",
        "colab_type": "text"
      },
      "source": [
        "<a href=\"https://colab.research.google.com/github/branndonm1/branndonm1/blob/main/BinomialPricingModel.ipynb\" target=\"_parent\"><img src=\"https://colab.research.google.com/assets/colab-badge.svg\" alt=\"Open In Colab\"/></a>"
      ]
    },
    {
      "cell_type": "markdown",
      "source": [
        "# Introductory Theory\n"
      ],
      "metadata": {
        "id": "OjAkbiw70ORF"
      }
    },
    {
      "cell_type": "markdown",
      "source": [
        "Suppose the value of a particular stock $S$ is a random process. Say it has initial value  $S_0$  and its value at a later time depends on a coin flip. If we achieve a heads then the value at the later time is  $$S_1(H)=uS_0$$ where  $u\\in (1,\\infty)$. Similarly if we get tails $S_1(T)=dS_0$ where $d\\in[0,1]$. We don't assume the coin flip is fair so we have to assign the probability of getting heads or tails but we will select this later on.\n",
        "\n",
        "We'd like know what these up and down factors are and what the sucess probability of getting a head should be. This way we can predict the chances that a particular stock should go up and by how much its value should rise.\n",
        "\n",
        "If our model predicts a stock should go up, then it would be smart of us to obtain some capital to buy shares of the stock. We may want to take out a loan of value $B_0$ with constant interest rate  $r_0>0$. The value of the loan is deterministic so that at a later till we will have to pay the bank back $$B_1=(1+r)B_0.$$\n",
        "\n",
        "Now suppose an portfolio of investments has initial value $X_0$ and takes the following investment strategy: \"buy  $\\Delta_0$  shares of stock $S$ and invest the rest at the bank\". The value of the portfolio at the later time will be\n",
        "$$(*) \\hspace{.5cm} X_1(\\omega)=(1+r)(X_0−\\Delta_0S_0)+\\Delta_0S_1(\\omega).$$\n",
        "Note that the value depends on whether the outcome of the coin flip was heads of tails.\n",
        "\n",
        "Assuming no market frictions, and assuming that no individual can take advantage of the market (arbitrage), it can be shown that the parameters must satisfy the inequality  $$u>1+r>d.$$ Moreover, the success probability of head from before must be  $$p=\\frac{1+r−d}{u−d}$$ which implicitly tells us the tails probability must be  $q=1−p=\\frac{u−(1+r)}{u−d}.$\n",
        "\n",
        "A derivative security $V$ is an asset whos value depends on a underlying stock $S$. A European Put options (EPO) is a particular option that allows holders to sell at a set \"strike price\" $K$ at some \"expirations time\" $T$ regardless of the price of the underlying stock $S$ at time $T$. If one \"exercises\" the put at time $T$ and the underlying stock has value less than $K$, one can make a profit of $K-S_T$. If the stock is valued higher than the stock then one simplify does not exercise the put and the EPO thus has a value of 0. In summary, at the experation time the value of the Euro put is $$(**) \\hspace{.5cm} V_T(\\omega) =\\max\\{0,K−S_T(\\omega)\\}.$$ Note that $V_T$ implicitly depends on the coin flip as well.\n",
        "\n",
        "Now suppose we have the European Put $V$ and while we may know its value $V_T$ at the expiration time (see equation $(**))$, it is not clear how to define a fair price $V_0$ for the EPO at initial time. In theory one can create a \"replicating portfolio\" $X$ made up of only the underlying stock $S$ by carefully buying the number of shares of stock $S$ at initial time that will evolve to will match the payout of a Euro Put $V$ at expiration time. In order for $V_1(\\omega) = X_1(\\omega)$ we must have the number of share bought $\\Delta_0 = \\frac{V_1(H)-V_1(T)}{S_1(H)-S_1(T)}$ and we can then plug this into $(*)$ to get the value of the portfolio at initial time $$(***) \\hspace{.5cm} X_0=\\frac{1}{1+r}E[X_1]=\\frac{1}{1+r}[pX(H)+qX(T)].$$ and we define this to be the fair price of the Euro Put $V$ at initial time $$V_0 := X_0.$$\n",
        "\n",
        "The key idea here is that if we believe there is a self replicating portfolio $X$ that can match the performance of the Euro Put $V$ we can use the backwards induction formula $(***)$ to find the initial value of the portfolio which by definition is the fair initial price of the Euro Put $V$.\n",
        "\n",
        "Assuming that the market is fair and arbitrage free, the predicted price $V_0$ should match the current listed price of the particular put option with strike price $K$. This assume that we know the value of the put at expiration time, but that means we must know the value of the stock at expiration time. We don't know this exactly, but we can guess the up and down factors to get a good estimate. Using this guess we can do back propogation to estimate the fair price and compare it to the actual listen price. We can keep guessing until we get an estimated fair price that is close to the actual listed price. Of course guessing is not the most efficient way to find the \"best fit\" up and down factors. We will use a mathematical techniques to solve this problem."
      ],
      "metadata": {
        "id": "E5Keo4osOm72"
      }
    },
    {
      "cell_type": "markdown",
      "source": [
        "# Installing Packages and Importing Libraries"
      ],
      "metadata": {
        "id": "zCaGGVqr0Zbc"
      }
    },
    {
      "cell_type": "code",
      "source": [
        "!pip install yfinance #install yfinance for API\n",
        "\n",
        "import numpy as np #import numpy for handy array and math stuff\n",
        "import matplotlib.pyplot as plt #for plotting data\n",
        "import pandas as pd #for stats/excel type stuff\n",
        "import seaborn as sns #for statistical plots\n",
        "import yfinance as yf #api to get stock data from yahoo finance\n",
        "import scipy #for math stuff\n",
        "from sklearn.metrics import mean_squared_error"
      ],
      "metadata": {
        "id": "9lcJsO1iv6hp",
        "colab": {
          "base_uri": "https://localhost:8080/"
        },
        "outputId": "cf970367-6943-4b47-af56-c22c78f21315"
      },
      "execution_count": null,
      "outputs": [
        {
          "output_type": "stream",
          "name": "stdout",
          "text": [
            "Looking in indexes: https://pypi.org/simple, https://us-python.pkg.dev/colab-wheels/public/simple/\n",
            "Requirement already satisfied: yfinance in /usr/local/lib/python3.7/dist-packages (0.1.74)\n",
            "Requirement already satisfied: multitasking>=0.0.7 in /usr/local/lib/python3.7/dist-packages (from yfinance) (0.0.11)\n",
            "Requirement already satisfied: pandas>=0.24.0 in /usr/local/lib/python3.7/dist-packages (from yfinance) (1.3.5)\n",
            "Requirement already satisfied: requests>=2.26 in /usr/local/lib/python3.7/dist-packages (from yfinance) (2.28.1)\n",
            "Requirement already satisfied: numpy>=1.15 in /usr/local/lib/python3.7/dist-packages (from yfinance) (1.21.6)\n",
            "Requirement already satisfied: lxml>=4.5.1 in /usr/local/lib/python3.7/dist-packages (from yfinance) (4.9.1)\n",
            "Requirement already satisfied: python-dateutil>=2.7.3 in /usr/local/lib/python3.7/dist-packages (from pandas>=0.24.0->yfinance) (2.8.2)\n",
            "Requirement already satisfied: pytz>=2017.3 in /usr/local/lib/python3.7/dist-packages (from pandas>=0.24.0->yfinance) (2022.2.1)\n",
            "Requirement already satisfied: six>=1.5 in /usr/local/lib/python3.7/dist-packages (from python-dateutil>=2.7.3->pandas>=0.24.0->yfinance) (1.15.0)\n",
            "Requirement already satisfied: charset-normalizer<3,>=2 in /usr/local/lib/python3.7/dist-packages (from requests>=2.26->yfinance) (2.1.1)\n",
            "Requirement already satisfied: certifi>=2017.4.17 in /usr/local/lib/python3.7/dist-packages (from requests>=2.26->yfinance) (2022.6.15)\n",
            "Requirement already satisfied: idna<4,>=2.5 in /usr/local/lib/python3.7/dist-packages (from requests>=2.26->yfinance) (2.10)\n",
            "Requirement already satisfied: urllib3<1.27,>=1.21.1 in /usr/local/lib/python3.7/dist-packages (from requests>=2.26->yfinance) (1.24.3)\n"
          ]
        }
      ]
    },
    {
      "cell_type": "markdown",
      "source": [
        "# Getting Data"
      ],
      "metadata": {
        "id": "ePNyBFCE0dwp"
      }
    },
    {
      "cell_type": "code",
      "source": [
        "#pick stocks\n",
        "tkr=\"AAPL\" #get tickers for desired stock\n",
        "stk = yf.Ticker(tkr) #feed desired stock\n",
        "\n",
        "#get stock data\n",
        "stock_data = yf.download(tkr, start=\"2000-01-01\", end=\"2022-08-01\") #download stock data between given dates\n",
        "\n",
        "#get options data\n",
        "minExpData = min(stk.options) #take options with closest expiration date\n",
        "opt=stk.option_chain(minExpData) #gets options data for that particular expiration date\n",
        "strikes = opt.puts['strike'] #gets list of all possible strike prices for the put options with that expiration date\n",
        "prices = opt.puts['lastPrice'] #gets current price of put option\n",
        "\n"
      ],
      "metadata": {
        "id": "mpHQVEEoxQ53",
        "colab": {
          "base_uri": "https://localhost:8080/"
        },
        "outputId": "a51e2bee-2207-4fef-945b-82a80398da00"
      },
      "execution_count": null,
      "outputs": [
        {
          "output_type": "stream",
          "name": "stdout",
          "text": [
            "\r[*********************100%***********************]  1 of 1 completed\n"
          ]
        }
      ]
    },
    {
      "cell_type": "markdown",
      "source": [
        "# New Section"
      ],
      "metadata": {
        "id": "f6_phT_Pnbsx"
      }
    },
    {
      "cell_type": "code",
      "source": [
        "#initialize model params\n",
        "s_not = stock_data['Open'].tail(1).values[0] #open price\n",
        "u = 1+(stock_data['High'].tail(1).values[0] - stock_data['Open'].tail(1).values[0])/stock_data['Open'].tail(1).values[0] #(high-open)/open\n",
        "d = 1-(stock_data['Open'].tail(1).values[0] - stock_data['Low'].tail(1).values[0])/stock_data['Open'].tail(1).values[0] #(open-low)/open\n",
        "r = (u+d-2)/2 #picked so that u>r+1>d\n",
        "\n",
        "print(\"S_0=\"+str(s_not))\n",
        "print(\"u=\"+str(u))\n",
        "print(\"d=\"+str(d))\n",
        "print(\"r=\"+str(r))"
      ],
      "metadata": {
        "colab": {
          "base_uri": "https://localhost:8080/"
        },
        "id": "b15Sc4eonZoc",
        "outputId": "891ed97c-d42d-4964-c127-0d7917a30b23"
      },
      "execution_count": null,
      "outputs": [
        {
          "output_type": "stream",
          "name": "stdout",
          "text": [
            "S_0=161.24000549316406\n",
            "u=1.0148226203685522\n",
            "d=0.9892085993929228\n",
            "r=0.0020156098807375677\n"
          ]
        }
      ]
    },
    {
      "cell_type": "code",
      "source": [
        "\n",
        "def grid_optimize(u_s, d_s, r_s):\n",
        "  minError = 1000\n",
        "  best_params = [1,1,1]\n",
        "  for u in u_s:\n",
        "    for d in d_s:\n",
        "      for r in r_s:\n",
        "        layers=100\n",
        "        k=[strikes.values[i] for i in range(strikes.size)]\n",
        "        p=(1+r-d)/(u-d)\n",
        "        q=(u-(1+r))/(u-d)\n",
        "\n",
        "        #estimates final stock prices at expiration given s_0, u, and, d\n",
        "        final_stock = [pow(u,i)*pow(d,layers-i)*s_not for i in range(layers+1)]\n",
        "\n",
        "        #given final stock prices back propogates to find option fair price today\n",
        "        fair_prices = []\n",
        "\n",
        "        for m in range(len(k)):\n",
        "          option_tree = [[0 for j in range(layers-i+1)] for i in range(layers+1)]\n",
        "          option_tree[0] = [max(k[m]-final_stock[i], 0) for i in range(len(final_stock))]\n",
        "          for i in range(1,layers+1):\n",
        "            for j in range(len(option_tree[i])):\n",
        "              option_tree[i][j] = (p*option_tree[i-1][j]+q*option_tree[i-1][j+1])/(1+r)\n",
        "          fair_prices.append(option_tree[layers][0])\n",
        "\n",
        "        if mean_squared_error(fair_prices, prices) < minError:\n",
        "          best_params = [u,d,r]\n",
        "          minError = mean_squared_error(fair_prices, prices)\n",
        "  return minError, best_params\n"
      ],
      "metadata": {
        "id": "sCczHoqIqi_4"
      },
      "execution_count": null,
      "outputs": []
    },
    {
      "cell_type": "markdown",
      "source": [
        "# optimization step\n"
      ],
      "metadata": {
        "id": "N5vE6wBZSrL0"
      }
    },
    {
      "cell_type": "code",
      "source": [
        "#grid search\n",
        "u_s = [i+.01 for i in range(1,10)]\n",
        "d_s = [1/i-.01 for i in range(1,10)]\n",
        "r_s = [1/(5*i) for i in range(1,20)]\n",
        "\n",
        "print(\"The min error and best params are:\",grid_optimize(u_s, d_s, r_s))\n"
      ],
      "metadata": {
        "id": "h-26LT_rf25_",
        "colab": {
          "base_uri": "https://localhost:8080/"
        },
        "outputId": "b16f14f6-c979-4b4b-a29e-6d8f068050a1"
      },
      "execution_count": null,
      "outputs": [
        {
          "output_type": "stream",
          "name": "stdout",
          "text": [
            "The min error and best params are: (359.19025841826914, [3.01, 0.10111111111111111, 0.010526315789473684])\n"
          ]
        }
      ]
    },
    {
      "cell_type": "code",
      "source": [
        "print(optimize([u], [d], [r]))"
      ],
      "metadata": {
        "colab": {
          "base_uri": "https://localhost:8080/"
        },
        "id": "CNbr6mNAC9Eq",
        "outputId": "5e50789c-7fa8-49d2-d40d-7364d4105222"
      },
      "execution_count": null,
      "outputs": [
        {
          "output_type": "stream",
          "name": "stdout",
          "text": [
            "Current params: [1.0148226203685522, 0.9892085993929228, 0.0020156098807375677]\n",
            "Current error: 1000\n",
            "(302.0479127694791, [1.0148226203685522, 0.9892085993929228, 0.0020156098807375677])\n"
          ]
        }
      ]
    }
  ]
}