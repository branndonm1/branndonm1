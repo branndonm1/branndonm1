{
  "nbformat": 4,
  "nbformat_minor": 0,
  "metadata": {
    "colab": {
      "provenance": [],
      "toc_visible": true,
      "authorship_tag": "ABX9TyOHqBIoI8/Ts3fDPn51hKQX",
      "include_colab_link": true
    },
    "kernelspec": {
      "name": "python3",
      "display_name": "Python 3"
    },
    "language_info": {
      "name": "python"
    }
  },
  "cells": [
    {
      "cell_type": "markdown",
      "metadata": {
        "id": "view-in-github",
        "colab_type": "text"
      },
      "source": [
        "<a href=\"https://colab.research.google.com/github/branndonm1/branndonm1/blob/main/OptionsTrading.ipynb\" target=\"_parent\"><img src=\"https://colab.research.google.com/assets/colab-badge.svg\" alt=\"Open In Colab\"/></a>"
      ]
    },
    {
      "cell_type": "markdown",
      "source": [
        "# Introduction\n",
        "\n",
        "\n"
      ],
      "metadata": {
        "id": "OjAkbiw70ORF"
      }
    },
    {
      "cell_type": "markdown",
      "source": [
        "The goal here is to use ML to predict options prices. Theory says there is a strong relationship between strike price and fair price so we will particularly be interesed in analyzing this relationship.\n",
        "\n"
      ],
      "metadata": {
        "id": "E5Keo4osOm72"
      }
    },
    {
      "cell_type": "markdown",
      "source": [
        "# Installing Packages\n"
      ],
      "metadata": {
        "id": "Giq_bT0y0URY"
      }
    },
    {
      "cell_type": "code",
      "source": [
        "!pip install tensorflow #install tensorflow for ML stuff\n",
        "!pip install yfinance #install yfinance for API"
      ],
      "metadata": {
        "id": "kmdtKEawvlVC"
      },
      "execution_count": null,
      "outputs": []
    },
    {
      "cell_type": "markdown",
      "source": [
        "# Importing Libraries"
      ],
      "metadata": {
        "id": "zCaGGVqr0Zbc"
      }
    },
    {
      "cell_type": "code",
      "source": [
        "import tensorflow as tf #import tensorflow library for us to use\n",
        "import numpy as np #import numpy for handy array and math stuff\n",
        "import matplotlib.pyplot as plt #for plotting data\n",
        "import pandas as pd #for stats/excel type stuff\n",
        "import seaborn as sns #for statistical plots\n",
        "import yfinance as yf #api to get stock data from yahoo finance\n",
        "import scipy #for math stuff\n",
        "from sklearn.linear_model import LinearRegression, Lasso, Ridge, ElasticNet #import linear regression method from linear model packs in sklearn\n",
        "from sklearn.metrics import mean_squared_error"
      ],
      "metadata": {
        "id": "9lcJsO1iv6hp"
      },
      "execution_count": null,
      "outputs": []
    },
    {
      "cell_type": "markdown",
      "source": [
        "# Getting Data"
      ],
      "metadata": {
        "id": "ePNyBFCE0dwp"
      }
    },
    {
      "cell_type": "code",
      "source": [
        "stk = yf.Ticker(\"AAPL\") #feed desired stock\n",
        "\n",
        "minExpData = min(stk.options) #take options with closest expiration date\n",
        "\n",
        "opt=stk.option_chain(minExpData) #gets options data for that particular expiration date\n",
        "\n",
        "\n",
        "strikes = opt.puts['strike'] #gets list of all possible strike prices for the put options with that expiration date\n",
        "put_prices = opt.puts['lastPrice'] #gets current price of put option\n",
        "vols = opt.puts['volume']\n",
        "openInt = opt.puts['openInterest']\n",
        "volatils = opt.puts['impliedVolatility']\n",
        "stocks = yf.download(['AAPL'], start=\"2022-01-01\", end=\"2022-08-14\") #download stock data between given dates\n",
        "stock_data = stocks.tail(strikes.size)\n"
      ],
      "metadata": {
        "id": "mpHQVEEoxQ53",
        "colab": {
          "base_uri": "https://localhost:8080/"
        },
        "outputId": "edc10216-98e8-48a1-cefb-d1a17e884223"
      },
      "execution_count": null,
      "outputs": [
        {
          "output_type": "stream",
          "name": "stdout",
          "text": [
            "\r[*********************100%***********************]  1 of 1 completed\n"
          ]
        }
      ]
    },
    {
      "cell_type": "markdown",
      "source": [
        "# Raw data analysis\n",
        "\n"
      ],
      "metadata": {
        "id": "6N1DYYH96Ir0"
      }
    },
    {
      "cell_type": "code",
      "source": [
        "opt.puts #show all put options data for the closest date"
      ],
      "metadata": {
        "id": "iPIAfMrG6PhD",
        "colab": {
          "base_uri": "https://localhost:8080/",
          "height": 653
        },
        "outputId": "4f8890f8-a309-4210-8800-dd332aaf8f56"
      },
      "execution_count": null,
      "outputs": [
        {
          "output_type": "execute_result",
          "data": {
            "text/plain": [
              "         contractSymbol             lastTradeDate  strike  lastPrice   bid  \\\n",
              "0   AAPL220819P00030000 2022-08-01 15:20:43+00:00    30.0       0.01   0.0   \n",
              "1   AAPL220819P00035000 2022-07-20 15:10:50+00:00    35.0       0.01   0.0   \n",
              "2   AAPL220819P00040000 2022-06-24 16:20:44+00:00    40.0       0.03   0.0   \n",
              "3   AAPL220819P00045000 2022-06-21 14:59:24+00:00    45.0       0.01   0.0   \n",
              "4   AAPL220819P00050000 2022-08-04 14:29:03+00:00    50.0       0.01   0.0   \n",
              "..                  ...                       ...     ...        ...   ...   \n",
              "63  AAPL220819P00240000 2022-08-11 14:00:45+00:00   240.0      69.50  66.8   \n",
              "64  AAPL220819P00245000 2022-08-11 19:09:05+00:00   245.0      73.15  71.8   \n",
              "65  AAPL220819P00250000 2022-08-10 13:45:50+00:00   250.0      82.05  76.8   \n",
              "66  AAPL220819P00255000 2022-08-10 13:45:50+00:00   255.0      87.05  81.8   \n",
              "67  AAPL220819P00260000 2022-08-15 16:59:05+00:00   260.0      86.80  86.8   \n",
              "\n",
              "      ask    change  percentChange  volume  openInterest  impliedVolatility  \\\n",
              "0    0.01  0.000000       0.000000     1.0            57           5.125004   \n",
              "1    0.01  0.000000       0.000000     NaN             1           4.625004   \n",
              "2    0.03  0.000000       0.000000     1.0             1           4.687504   \n",
              "3    0.01  0.000000       0.000000     NaN             2           3.875000   \n",
              "4    0.01  0.000000       0.000000     1.0           287           3.625001   \n",
              "..    ...       ...            ...     ...           ...                ...   \n",
              "63  67.05  0.000000       0.000000    20.0             0           1.371097   \n",
              "64  72.05 -3.250000      -4.253926     6.0             4           1.443362   \n",
              "65  77.05  0.000000       0.000000     3.0             0           1.515627   \n",
              "66  82.05  0.000000       0.000000    20.0             0           1.582033   \n",
              "67  87.05 -1.599999      -1.809953    12.0             2           1.652345   \n",
              "\n",
              "    inTheMoney contractSize currency  \n",
              "0        False      REGULAR      USD  \n",
              "1        False      REGULAR      USD  \n",
              "2        False      REGULAR      USD  \n",
              "3        False      REGULAR      USD  \n",
              "4        False      REGULAR      USD  \n",
              "..         ...          ...      ...  \n",
              "63        True      REGULAR      USD  \n",
              "64        True      REGULAR      USD  \n",
              "65        True      REGULAR      USD  \n",
              "66        True      REGULAR      USD  \n",
              "67        True      REGULAR      USD  \n",
              "\n",
              "[68 rows x 14 columns]"
            ],
            "text/html": [
              "\n",
              "  <div id=\"df-31a58b82-55d5-42b5-8598-a6693f2509b0\">\n",
              "    <div class=\"colab-df-container\">\n",
              "      <div>\n",
              "<style scoped>\n",
              "    .dataframe tbody tr th:only-of-type {\n",
              "        vertical-align: middle;\n",
              "    }\n",
              "\n",
              "    .dataframe tbody tr th {\n",
              "        vertical-align: top;\n",
              "    }\n",
              "\n",
              "    .dataframe thead th {\n",
              "        text-align: right;\n",
              "    }\n",
              "</style>\n",
              "<table border=\"1\" class=\"dataframe\">\n",
              "  <thead>\n",
              "    <tr style=\"text-align: right;\">\n",
              "      <th></th>\n",
              "      <th>contractSymbol</th>\n",
              "      <th>lastTradeDate</th>\n",
              "      <th>strike</th>\n",
              "      <th>lastPrice</th>\n",
              "      <th>bid</th>\n",
              "      <th>ask</th>\n",
              "      <th>change</th>\n",
              "      <th>percentChange</th>\n",
              "      <th>volume</th>\n",
              "      <th>openInterest</th>\n",
              "      <th>impliedVolatility</th>\n",
              "      <th>inTheMoney</th>\n",
              "      <th>contractSize</th>\n",
              "      <th>currency</th>\n",
              "    </tr>\n",
              "  </thead>\n",
              "  <tbody>\n",
              "    <tr>\n",
              "      <th>0</th>\n",
              "      <td>AAPL220819P00030000</td>\n",
              "      <td>2022-08-01 15:20:43+00:00</td>\n",
              "      <td>30.0</td>\n",
              "      <td>0.01</td>\n",
              "      <td>0.0</td>\n",
              "      <td>0.01</td>\n",
              "      <td>0.000000</td>\n",
              "      <td>0.000000</td>\n",
              "      <td>1.0</td>\n",
              "      <td>57</td>\n",
              "      <td>5.125004</td>\n",
              "      <td>False</td>\n",
              "      <td>REGULAR</td>\n",
              "      <td>USD</td>\n",
              "    </tr>\n",
              "    <tr>\n",
              "      <th>1</th>\n",
              "      <td>AAPL220819P00035000</td>\n",
              "      <td>2022-07-20 15:10:50+00:00</td>\n",
              "      <td>35.0</td>\n",
              "      <td>0.01</td>\n",
              "      <td>0.0</td>\n",
              "      <td>0.01</td>\n",
              "      <td>0.000000</td>\n",
              "      <td>0.000000</td>\n",
              "      <td>NaN</td>\n",
              "      <td>1</td>\n",
              "      <td>4.625004</td>\n",
              "      <td>False</td>\n",
              "      <td>REGULAR</td>\n",
              "      <td>USD</td>\n",
              "    </tr>\n",
              "    <tr>\n",
              "      <th>2</th>\n",
              "      <td>AAPL220819P00040000</td>\n",
              "      <td>2022-06-24 16:20:44+00:00</td>\n",
              "      <td>40.0</td>\n",
              "      <td>0.03</td>\n",
              "      <td>0.0</td>\n",
              "      <td>0.03</td>\n",
              "      <td>0.000000</td>\n",
              "      <td>0.000000</td>\n",
              "      <td>1.0</td>\n",
              "      <td>1</td>\n",
              "      <td>4.687504</td>\n",
              "      <td>False</td>\n",
              "      <td>REGULAR</td>\n",
              "      <td>USD</td>\n",
              "    </tr>\n",
              "    <tr>\n",
              "      <th>3</th>\n",
              "      <td>AAPL220819P00045000</td>\n",
              "      <td>2022-06-21 14:59:24+00:00</td>\n",
              "      <td>45.0</td>\n",
              "      <td>0.01</td>\n",
              "      <td>0.0</td>\n",
              "      <td>0.01</td>\n",
              "      <td>0.000000</td>\n",
              "      <td>0.000000</td>\n",
              "      <td>NaN</td>\n",
              "      <td>2</td>\n",
              "      <td>3.875000</td>\n",
              "      <td>False</td>\n",
              "      <td>REGULAR</td>\n",
              "      <td>USD</td>\n",
              "    </tr>\n",
              "    <tr>\n",
              "      <th>4</th>\n",
              "      <td>AAPL220819P00050000</td>\n",
              "      <td>2022-08-04 14:29:03+00:00</td>\n",
              "      <td>50.0</td>\n",
              "      <td>0.01</td>\n",
              "      <td>0.0</td>\n",
              "      <td>0.01</td>\n",
              "      <td>0.000000</td>\n",
              "      <td>0.000000</td>\n",
              "      <td>1.0</td>\n",
              "      <td>287</td>\n",
              "      <td>3.625001</td>\n",
              "      <td>False</td>\n",
              "      <td>REGULAR</td>\n",
              "      <td>USD</td>\n",
              "    </tr>\n",
              "    <tr>\n",
              "      <th>...</th>\n",
              "      <td>...</td>\n",
              "      <td>...</td>\n",
              "      <td>...</td>\n",
              "      <td>...</td>\n",
              "      <td>...</td>\n",
              "      <td>...</td>\n",
              "      <td>...</td>\n",
              "      <td>...</td>\n",
              "      <td>...</td>\n",
              "      <td>...</td>\n",
              "      <td>...</td>\n",
              "      <td>...</td>\n",
              "      <td>...</td>\n",
              "      <td>...</td>\n",
              "    </tr>\n",
              "    <tr>\n",
              "      <th>63</th>\n",
              "      <td>AAPL220819P00240000</td>\n",
              "      <td>2022-08-11 14:00:45+00:00</td>\n",
              "      <td>240.0</td>\n",
              "      <td>69.50</td>\n",
              "      <td>66.8</td>\n",
              "      <td>67.05</td>\n",
              "      <td>0.000000</td>\n",
              "      <td>0.000000</td>\n",
              "      <td>20.0</td>\n",
              "      <td>0</td>\n",
              "      <td>1.371097</td>\n",
              "      <td>True</td>\n",
              "      <td>REGULAR</td>\n",
              "      <td>USD</td>\n",
              "    </tr>\n",
              "    <tr>\n",
              "      <th>64</th>\n",
              "      <td>AAPL220819P00245000</td>\n",
              "      <td>2022-08-11 19:09:05+00:00</td>\n",
              "      <td>245.0</td>\n",
              "      <td>73.15</td>\n",
              "      <td>71.8</td>\n",
              "      <td>72.05</td>\n",
              "      <td>-3.250000</td>\n",
              "      <td>-4.253926</td>\n",
              "      <td>6.0</td>\n",
              "      <td>4</td>\n",
              "      <td>1.443362</td>\n",
              "      <td>True</td>\n",
              "      <td>REGULAR</td>\n",
              "      <td>USD</td>\n",
              "    </tr>\n",
              "    <tr>\n",
              "      <th>65</th>\n",
              "      <td>AAPL220819P00250000</td>\n",
              "      <td>2022-08-10 13:45:50+00:00</td>\n",
              "      <td>250.0</td>\n",
              "      <td>82.05</td>\n",
              "      <td>76.8</td>\n",
              "      <td>77.05</td>\n",
              "      <td>0.000000</td>\n",
              "      <td>0.000000</td>\n",
              "      <td>3.0</td>\n",
              "      <td>0</td>\n",
              "      <td>1.515627</td>\n",
              "      <td>True</td>\n",
              "      <td>REGULAR</td>\n",
              "      <td>USD</td>\n",
              "    </tr>\n",
              "    <tr>\n",
              "      <th>66</th>\n",
              "      <td>AAPL220819P00255000</td>\n",
              "      <td>2022-08-10 13:45:50+00:00</td>\n",
              "      <td>255.0</td>\n",
              "      <td>87.05</td>\n",
              "      <td>81.8</td>\n",
              "      <td>82.05</td>\n",
              "      <td>0.000000</td>\n",
              "      <td>0.000000</td>\n",
              "      <td>20.0</td>\n",
              "      <td>0</td>\n",
              "      <td>1.582033</td>\n",
              "      <td>True</td>\n",
              "      <td>REGULAR</td>\n",
              "      <td>USD</td>\n",
              "    </tr>\n",
              "    <tr>\n",
              "      <th>67</th>\n",
              "      <td>AAPL220819P00260000</td>\n",
              "      <td>2022-08-15 16:59:05+00:00</td>\n",
              "      <td>260.0</td>\n",
              "      <td>86.80</td>\n",
              "      <td>86.8</td>\n",
              "      <td>87.05</td>\n",
              "      <td>-1.599999</td>\n",
              "      <td>-1.809953</td>\n",
              "      <td>12.0</td>\n",
              "      <td>2</td>\n",
              "      <td>1.652345</td>\n",
              "      <td>True</td>\n",
              "      <td>REGULAR</td>\n",
              "      <td>USD</td>\n",
              "    </tr>\n",
              "  </tbody>\n",
              "</table>\n",
              "<p>68 rows × 14 columns</p>\n",
              "</div>\n",
              "      <button class=\"colab-df-convert\" onclick=\"convertToInteractive('df-31a58b82-55d5-42b5-8598-a6693f2509b0')\"\n",
              "              title=\"Convert this dataframe to an interactive table.\"\n",
              "              style=\"display:none;\">\n",
              "        \n",
              "  <svg xmlns=\"http://www.w3.org/2000/svg\" height=\"24px\"viewBox=\"0 0 24 24\"\n",
              "       width=\"24px\">\n",
              "    <path d=\"M0 0h24v24H0V0z\" fill=\"none\"/>\n",
              "    <path d=\"M18.56 5.44l.94 2.06.94-2.06 2.06-.94-2.06-.94-.94-2.06-.94 2.06-2.06.94zm-11 1L8.5 8.5l.94-2.06 2.06-.94-2.06-.94L8.5 2.5l-.94 2.06-2.06.94zm10 10l.94 2.06.94-2.06 2.06-.94-2.06-.94-.94-2.06-.94 2.06-2.06.94z\"/><path d=\"M17.41 7.96l-1.37-1.37c-.4-.4-.92-.59-1.43-.59-.52 0-1.04.2-1.43.59L10.3 9.45l-7.72 7.72c-.78.78-.78 2.05 0 2.83L4 21.41c.39.39.9.59 1.41.59.51 0 1.02-.2 1.41-.59l7.78-7.78 2.81-2.81c.8-.78.8-2.07 0-2.86zM5.41 20L4 18.59l7.72-7.72 1.47 1.35L5.41 20z\"/>\n",
              "  </svg>\n",
              "      </button>\n",
              "      \n",
              "  <style>\n",
              "    .colab-df-container {\n",
              "      display:flex;\n",
              "      flex-wrap:wrap;\n",
              "      gap: 12px;\n",
              "    }\n",
              "\n",
              "    .colab-df-convert {\n",
              "      background-color: #E8F0FE;\n",
              "      border: none;\n",
              "      border-radius: 50%;\n",
              "      cursor: pointer;\n",
              "      display: none;\n",
              "      fill: #1967D2;\n",
              "      height: 32px;\n",
              "      padding: 0 0 0 0;\n",
              "      width: 32px;\n",
              "    }\n",
              "\n",
              "    .colab-df-convert:hover {\n",
              "      background-color: #E2EBFA;\n",
              "      box-shadow: 0px 1px 2px rgba(60, 64, 67, 0.3), 0px 1px 3px 1px rgba(60, 64, 67, 0.15);\n",
              "      fill: #174EA6;\n",
              "    }\n",
              "\n",
              "    [theme=dark] .colab-df-convert {\n",
              "      background-color: #3B4455;\n",
              "      fill: #D2E3FC;\n",
              "    }\n",
              "\n",
              "    [theme=dark] .colab-df-convert:hover {\n",
              "      background-color: #434B5C;\n",
              "      box-shadow: 0px 1px 3px 1px rgba(0, 0, 0, 0.15);\n",
              "      filter: drop-shadow(0px 1px 2px rgba(0, 0, 0, 0.3));\n",
              "      fill: #FFFFFF;\n",
              "    }\n",
              "  </style>\n",
              "\n",
              "      <script>\n",
              "        const buttonEl =\n",
              "          document.querySelector('#df-31a58b82-55d5-42b5-8598-a6693f2509b0 button.colab-df-convert');\n",
              "        buttonEl.style.display =\n",
              "          google.colab.kernel.accessAllowed ? 'block' : 'none';\n",
              "\n",
              "        async function convertToInteractive(key) {\n",
              "          const element = document.querySelector('#df-31a58b82-55d5-42b5-8598-a6693f2509b0');\n",
              "          const dataTable =\n",
              "            await google.colab.kernel.invokeFunction('convertToInteractive',\n",
              "                                                     [key], {});\n",
              "          if (!dataTable) return;\n",
              "\n",
              "          const docLinkHtml = 'Like what you see? Visit the ' +\n",
              "            '<a target=\"_blank\" href=https://colab.research.google.com/notebooks/data_table.ipynb>data table notebook</a>'\n",
              "            + ' to learn more about interactive tables.';\n",
              "          element.innerHTML = '';\n",
              "          dataTable['output_type'] = 'display_data';\n",
              "          await google.colab.output.renderOutput(dataTable, element);\n",
              "          const docLink = document.createElement('div');\n",
              "          docLink.innerHTML = docLinkHtml;\n",
              "          element.appendChild(docLink);\n",
              "        }\n",
              "      </script>\n",
              "    </div>\n",
              "  </div>\n",
              "  "
            ]
          },
          "metadata": {},
          "execution_count": 20
        }
      ]
    },
    {
      "cell_type": "code",
      "source": [
        "sns.distplot(prices) #plot distribution of current prices)"
      ],
      "metadata": {
        "id": "eJBiU1XrGtdv",
        "colab": {
          "base_uri": "https://localhost:8080/",
          "height": 353
        },
        "outputId": "88667cd1-325f-4b14-a1ff-b093fd2fb578"
      },
      "execution_count": null,
      "outputs": [
        {
          "output_type": "stream",
          "name": "stderr",
          "text": [
            "/usr/local/lib/python3.7/dist-packages/seaborn/distributions.py:2619: FutureWarning: `distplot` is a deprecated function and will be removed in a future version. Please adapt your code to use either `displot` (a figure-level function with similar flexibility) or `histplot` (an axes-level function for histograms).\n",
            "  warnings.warn(msg, FutureWarning)\n"
          ]
        },
        {
          "output_type": "execute_result",
          "data": {
            "text/plain": [
              "<matplotlib.axes._subplots.AxesSubplot at 0x7f0bef72cf10>"
            ]
          },
          "metadata": {},
          "execution_count": 45
        },
        {
          "output_type": "display_data",
          "data": {
            "text/plain": [
              "<Figure size 432x288 with 1 Axes>"
            ],
            "image/png": "[encoded data removed]"
          },
          "metadata": {
            "needs_background": "light"
          }
        }
      ]
    },
    {
      "cell_type": "code",
      "source": [
        "sns.distplot(strikes)"
      ],
      "metadata": {
        "colab": {
          "base_uri": "https://localhost:8080/",
          "height": 351
        },
        "id": "sunjDIrMOKrC",
        "outputId": "7bfac9d2-92d5-4112-9d60-ab3cbe9383e9"
      },
      "execution_count": null,
      "outputs": [
        {
          "output_type": "stream",
          "name": "stderr",
          "text": [
            "/usr/local/lib/python3.7/dist-packages/seaborn/distributions.py:2619: FutureWarning: `distplot` is a deprecated function and will be removed in a future version. Please adapt your code to use either `displot` (a figure-level function with similar flexibility) or `histplot` (an axes-level function for histograms).\n",
            "  warnings.warn(msg, FutureWarning)\n"
          ]
        },
        {
          "output_type": "execute_result",
          "data": {
            "text/plain": [
              "<matplotlib.axes._subplots.AxesSubplot at 0x7f0bef570610>"
            ]
          },
          "metadata": {},
          "execution_count": 47
        },
        {
          "output_type": "display_data",
          "data": {
            "text/plain": [
              "<Figure size 432x288 with 1 Axes>"
            ],
            "image/png": "[encoded data removed]"
          },
          "metadata": {
            "needs_background": "light"
          }
        }
      ]
    },
    {
      "cell_type": "code",
      "source": [
        "sns.distplot(stock_data['Open'])"
      ],
      "metadata": {
        "colab": {
          "base_uri": "https://localhost:8080/",
          "height": 350
        },
        "id": "Yn5Jzp3t-uYm",
        "outputId": "b30497c4-ec8e-4ba8-faf3-351327b6d7ea"
      },
      "execution_count": null,
      "outputs": [
        {
          "output_type": "stream",
          "name": "stderr",
          "text": [
            "/usr/local/lib/python3.7/dist-packages/seaborn/distributions.py:2619: FutureWarning: `distplot` is a deprecated function and will be removed in a future version. Please adapt your code to use either `displot` (a figure-level function with similar flexibility) or `histplot` (an axes-level function for histograms).\n",
            "  warnings.warn(msg, FutureWarning)\n"
          ]
        },
        {
          "output_type": "execute_result",
          "data": {
            "text/plain": [
              "<matplotlib.axes._subplots.AxesSubplot at 0x7fba24e14110>"
            ]
          },
          "metadata": {},
          "execution_count": 21
        },
        {
          "output_type": "display_data",
          "data": {
            "text/plain": [
              "<Figure size 432x288 with 1 Axes>"
            ],
            "image/png": "[encoded data removed]"
          },
          "metadata": {
            "needs_background": "light"
          }
        }
      ]
    },
    {
      "cell_type": "code",
      "source": [
        "plt.scatter(strikes,stock_data['Open'])"
      ],
      "metadata": {
        "colab": {
          "base_uri": "https://localhost:8080/",
          "height": 282
        },
        "id": "nVPKWVqRObTX",
        "outputId": "2cecd68d-8bb0-4d5b-810b-2b8816d38b37"
      },
      "execution_count": null,
      "outputs": [
        {
          "output_type": "execute_result",
          "data": {
            "text/plain": [
              "<matplotlib.collections.PathCollection at 0x7fba24d27cd0>"
            ]
          },
          "metadata": {},
          "execution_count": 22
        },
        {
          "output_type": "display_data",
          "data": {
            "text/plain": [
              "<Figure size 432x288 with 1 Axes>"
            ],
            "image/png": "[encoded data removed]"
          },
          "metadata": {
            "needs_background": "light"
          }
        }
      ]
    },
    {
      "cell_type": "markdown",
      "source": [
        "I believe the chart above matches the theoretical relationship we should expect between strike price and fair price.\n"
      ],
      "metadata": {
        "id": "1_CmMr13O-W_"
      }
    },
    {
      "cell_type": "markdown",
      "source": [
        "# Data prep for deep learning\n",
        "\n",
        "\n"
      ],
      "metadata": {
        "id": "qzp3vYwq6r2q"
      }
    },
    {
      "cell_type": "code",
      "source": [
        "#put markers into library\n",
        "data = {'price': prices,\n",
        "        'strike': strikes,\n",
        "        'volume': vols,\n",
        "        'openInterest': openInt,\n",
        "        'impliedVolatility':volatils}\n",
        "\n",
        "# Create DataFrame from library\n",
        "df = pd.DataFrame(data)\n",
        "\n",
        "#we want to use all the features to predict price\n",
        "x = df.drop(\"price\", axis=1) #axis=1 for col, gets rid of \"price\" col\n",
        "y = df[\"price\"] # only \"price\" col data\n",
        "\n",
        "from sklearn.model_selection import train_test_split #import train test split method from sklearn package (within pandas)\n",
        "\n",
        "x_train, x_test, y_train, y_test = train_test_split(x,y,train_size=0.2, random_state=0) #RETURNS arrays with desired splitting of data for training and testing"
      ],
      "metadata": {
        "id": "pmk-yoKSJ8mB"
      },
      "execution_count": null,
      "outputs": []
    },
    {
      "cell_type": "markdown",
      "source": [
        "# Train using linear models"
      ],
      "metadata": {
        "id": "ZnC2XhzUKc8g"
      }
    },
    {
      "cell_type": "code",
      "source": [
        "#fit to different linear models\n",
        "lr = LinearRegression().fit(x_train, y_train) #fits models given the training data, find weights that will fit x to y\n",
        "la = Lasso().fit(x_train, y_train) #fit with Lasso:linear model that disregards less \"important\" features\n",
        "ri = Ridge().fit(x_train, y_train) #fit with Ridge:linear model that \"penalizes\" less \"important\" features\n",
        "en = ElasticNet().fit(x_train, y_train)"
      ],
      "metadata": {
        "id": "NcAzUBE3JhKh"
      },
      "execution_count": null,
      "outputs": []
    },
    {
      "cell_type": "markdown",
      "source": [
        "# Test using linear models"
      ],
      "metadata": {
        "id": "qRW4GJorKrIj"
      }
    },
    {
      "cell_type": "code",
      "source": [
        "#given test inputs, make predictions\n",
        "lr_pred = lr.predict(x_test)\n",
        "la_pred = la.predict(x_test)\n",
        "ri_pred = ri.predict(x_test)\n",
        "en_pred = en.predict(x_test)\n",
        "\n",
        "#gives MSE for each model\n",
        "print(\"LinearReg mse:\"+str(mean_squared_error(y_test, lr_pred)))\n",
        "print(\"Lasso mse:\"+str(mean_squared_error(y_test, la_pred)))\n",
        "print(\"Ridge mse:\"+str(mean_squared_error(y_test, ri_pred)))\n",
        "print(\"ElNet mse:\"+str(mean_squared_error(y_test, en_pred)))"
      ],
      "metadata": {
        "id": "CN5T2MapKsG7",
        "colab": {
          "base_uri": "https://localhost:8080/"
        },
        "outputId": "45d87a82-071f-41e8-fb11-e536f5df4b49"
      },
      "execution_count": null,
      "outputs": [
        {
          "output_type": "stream",
          "name": "stdout",
          "text": [
            "LinearReg mse:40.86461641757067\n",
            "Lasso mse:25.360413559171654\n",
            "Ridge mse:18.909878437909285\n",
            "ElNet mse:139.38575485978296\n"
          ]
        }
      ]
    },
    {
      "cell_type": "markdown",
      "source": [
        "# Analysis of model performance"
      ],
      "metadata": {
        "id": "qlxYjyDgK1Pu"
      }
    },
    {
      "cell_type": "code",
      "source": [
        "sns.distplot(ri_pred)"
      ],
      "metadata": {
        "colab": {
          "base_uri": "https://localhost:8080/",
          "height": 336
        },
        "id": "xxuNRIPqJhrj",
        "outputId": "7fd3165d-5a18-4ced-9bea-75f5d48a5e83"
      },
      "execution_count": null,
      "outputs": [
        {
          "output_type": "stream",
          "name": "stderr",
          "text": [
            "/usr/local/lib/python3.7/dist-packages/seaborn/distributions.py:2619: FutureWarning: `distplot` is a deprecated function and will be removed in a future version. Please adapt your code to use either `displot` (a figure-level function with similar flexibility) or `histplot` (an axes-level function for histograms).\n",
            "  warnings.warn(msg, FutureWarning)\n"
          ]
        },
        {
          "output_type": "execute_result",
          "data": {
            "text/plain": [
              "<matplotlib.axes._subplots.AxesSubplot at 0x7f0bef921d90>"
            ]
          },
          "metadata": {},
          "execution_count": 26
        },
        {
          "output_type": "display_data",
          "data": {
            "text/plain": [
              "<Figure size 432x288 with 1 Axes>"
            ],
            "image/png": "[encoded data removed]"
          },
          "metadata": {
            "needs_background": "light"
          }
        }
      ]
    },
    {
      "cell_type": "code",
      "source": [
        "plt.scatter(y_test, ri_pred)"
      ],
      "metadata": {
        "colab": {
          "base_uri": "https://localhost:8080/",
          "height": 282
        },
        "id": "9v2n1AjFKMRh",
        "outputId": "23f396ec-b434-45dd-e730-e240b4f844af"
      },
      "execution_count": null,
      "outputs": [
        {
          "output_type": "execute_result",
          "data": {
            "text/plain": [
              "<matplotlib.collections.PathCollection at 0x7f0bef7a6c50>"
            ]
          },
          "metadata": {},
          "execution_count": 29
        },
        {
          "output_type": "display_data",
          "data": {
            "text/plain": [
              "<Figure size 432x288 with 1 Axes>"
            ],
            "image/png": "[encoded data removed]"
          },
          "metadata": {
            "needs_background": "light"
          }
        }
      ]
    },
    {
      "cell_type": "markdown",
      "source": [
        "# Prediction"
      ],
      "metadata": {
        "id": "vg9VG24SL1sR"
      }
    },
    {
      "cell_type": "code",
      "source": [
        "plt.scatter(x_test['strike'], ri_pred)\n"
      ],
      "metadata": {
        "colab": {
          "base_uri": "https://localhost:8080/",
          "height": 282
        },
        "id": "S32XBWlONBhQ",
        "outputId": "6c25334c-1673-4d8a-89cb-e9a603826032"
      },
      "execution_count": null,
      "outputs": [
        {
          "output_type": "execute_result",
          "data": {
            "text/plain": [
              "<matplotlib.collections.PathCollection at 0x7f0bef618c90>"
            ]
          },
          "metadata": {},
          "execution_count": 46
        },
        {
          "output_type": "display_data",
          "data": {
            "text/plain": [
              "<Figure size 432x288 with 1 Axes>"
            ],
            "image/png": "[encoded data removed]"
          },
          "metadata": {
            "needs_background": "light"
          }
        }
      ]
    },
    {
      "cell_type": "code",
      "source": [
        "df.loc[(df['strike'] > 90) & (df['strike'] < 105)]"
      ],
      "metadata": {
        "colab": {
          "base_uri": "https://localhost:8080/",
          "height": 483
        },
        "id": "vEojQzMwQPas",
        "outputId": "65654be1-efe2-4332-d04b-27a056cca3d7"
      },
      "execution_count": null,
      "outputs": [
        {
          "output_type": "execute_result",
          "data": {
            "text/plain": [
              "    price  strike  volume  openInterest  impliedVolatility\n",
              "32   0.09    91.0    1838          2056           0.511724\n",
              "33   0.13    92.0    2180          3681           0.498052\n",
              "34   0.17    93.0    2143          2359           0.486333\n",
              "35   0.23    94.0    1077          2805           0.474615\n",
              "36   0.32    95.0    7443         18916           0.461919\n",
              "37   0.45    96.0    3748          4393           0.456548\n",
              "38   0.64    97.0    9702          2689           0.446783\n",
              "39   0.87    98.0    5188          3731           0.439459\n",
              "40   1.15    99.0    4826          7385           0.434576\n",
              "41   1.56   100.0   24268         12055           0.433599\n",
              "42   2.02   101.0    4135          1854           0.433599\n",
              "43   2.53   102.0    1775           728           0.434088\n",
              "44   3.15   103.0    1181          1758           0.442388\n",
              "45   3.85   104.0     197           807           0.444830"
            ],
            "text/html": [
              "\n",
              "  <div id=\"df-73beb93f-c478-4bbb-bb0e-e4dd557c1f3f\">\n",
              "    <div class=\"colab-df-container\">\n",
              "      <div>\n",
              "<style scoped>\n",
              "    .dataframe tbody tr th:only-of-type {\n",
              "        vertical-align: middle;\n",
              "    }\n",
              "\n",
              "    .dataframe tbody tr th {\n",
              "        vertical-align: top;\n",
              "    }\n",
              "\n",
              "    .dataframe thead th {\n",
              "        text-align: right;\n",
              "    }\n",
              "</style>\n",
              "<table border=\"1\" class=\"dataframe\">\n",
              "  <thead>\n",
              "    <tr style=\"text-align: right;\">\n",
              "      <th></th>\n",
              "      <th>price</th>\n",
              "      <th>strike</th>\n",
              "      <th>volume</th>\n",
              "      <th>openInterest</th>\n",
              "      <th>impliedVolatility</th>\n",
              "    </tr>\n",
              "  </thead>\n",
              "  <tbody>\n",
              "    <tr>\n",
              "      <th>32</th>\n",
              "      <td>0.09</td>\n",
              "      <td>91.0</td>\n",
              "      <td>1838</td>\n",
              "      <td>2056</td>\n",
              "      <td>0.511724</td>\n",
              "    </tr>\n",
              "    <tr>\n",
              "      <th>33</th>\n",
              "      <td>0.13</td>\n",
              "      <td>92.0</td>\n",
              "      <td>2180</td>\n",
              "      <td>3681</td>\n",
              "      <td>0.498052</td>\n",
              "    </tr>\n",
              "    <tr>\n",
              "      <th>34</th>\n",
              "      <td>0.17</td>\n",
              "      <td>93.0</td>\n",
              "      <td>2143</td>\n",
              "      <td>2359</td>\n",
              "      <td>0.486333</td>\n",
              "    </tr>\n",
              "    <tr>\n",
              "      <th>35</th>\n",
              "      <td>0.23</td>\n",
              "      <td>94.0</td>\n",
              "      <td>1077</td>\n",
              "      <td>2805</td>\n",
              "      <td>0.474615</td>\n",
              "    </tr>\n",
              "    <tr>\n",
              "      <th>36</th>\n",
              "      <td>0.32</td>\n",
              "      <td>95.0</td>\n",
              "      <td>7443</td>\n",
              "      <td>18916</td>\n",
              "      <td>0.461919</td>\n",
              "    </tr>\n",
              "    <tr>\n",
              "      <th>37</th>\n",
              "      <td>0.45</td>\n",
              "      <td>96.0</td>\n",
              "      <td>3748</td>\n",
              "      <td>4393</td>\n",
              "      <td>0.456548</td>\n",
              "    </tr>\n",
              "    <tr>\n",
              "      <th>38</th>\n",
              "      <td>0.64</td>\n",
              "      <td>97.0</td>\n",
              "      <td>9702</td>\n",
              "      <td>2689</td>\n",
              "      <td>0.446783</td>\n",
              "    </tr>\n",
              "    <tr>\n",
              "      <th>39</th>\n",
              "      <td>0.87</td>\n",
              "      <td>98.0</td>\n",
              "      <td>5188</td>\n",
              "      <td>3731</td>\n",
              "      <td>0.439459</td>\n",
              "    </tr>\n",
              "    <tr>\n",
              "      <th>40</th>\n",
              "      <td>1.15</td>\n",
              "      <td>99.0</td>\n",
              "      <td>4826</td>\n",
              "      <td>7385</td>\n",
              "      <td>0.434576</td>\n",
              "    </tr>\n",
              "    <tr>\n",
              "      <th>41</th>\n",
              "      <td>1.56</td>\n",
              "      <td>100.0</td>\n",
              "      <td>24268</td>\n",
              "      <td>12055</td>\n",
              "      <td>0.433599</td>\n",
              "    </tr>\n",
              "    <tr>\n",
              "      <th>42</th>\n",
              "      <td>2.02</td>\n",
              "      <td>101.0</td>\n",
              "      <td>4135</td>\n",
              "      <td>1854</td>\n",
              "      <td>0.433599</td>\n",
              "    </tr>\n",
              "    <tr>\n",
              "      <th>43</th>\n",
              "      <td>2.53</td>\n",
              "      <td>102.0</td>\n",
              "      <td>1775</td>\n",
              "      <td>728</td>\n",
              "      <td>0.434088</td>\n",
              "    </tr>\n",
              "    <tr>\n",
              "      <th>44</th>\n",
              "      <td>3.15</td>\n",
              "      <td>103.0</td>\n",
              "      <td>1181</td>\n",
              "      <td>1758</td>\n",
              "      <td>0.442388</td>\n",
              "    </tr>\n",
              "    <tr>\n",
              "      <th>45</th>\n",
              "      <td>3.85</td>\n",
              "      <td>104.0</td>\n",
              "      <td>197</td>\n",
              "      <td>807</td>\n",
              "      <td>0.444830</td>\n",
              "    </tr>\n",
              "  </tbody>\n",
              "</table>\n",
              "</div>\n",
              "      <button class=\"colab-df-convert\" onclick=\"convertToInteractive('df-73beb93f-c478-4bbb-bb0e-e4dd557c1f3f')\"\n",
              "              title=\"Convert this dataframe to an interactive table.\"\n",
              "              style=\"display:none;\">\n",
              "        \n",
              "  <svg xmlns=\"http://www.w3.org/2000/svg\" height=\"24px\"viewBox=\"0 0 24 24\"\n",
              "       width=\"24px\">\n",
              "    <path d=\"M0 0h24v24H0V0z\" fill=\"none\"/>\n",
              "    <path d=\"M18.56 5.44l.94 2.06.94-2.06 2.06-.94-2.06-.94-.94-2.06-.94 2.06-2.06.94zm-11 1L8.5 8.5l.94-2.06 2.06-.94-2.06-.94L8.5 2.5l-.94 2.06-2.06.94zm10 10l.94 2.06.94-2.06 2.06-.94-2.06-.94-.94-2.06-.94 2.06-2.06.94z\"/><path d=\"M17.41 7.96l-1.37-1.37c-.4-.4-.92-.59-1.43-.59-.52 0-1.04.2-1.43.59L10.3 9.45l-7.72 7.72c-.78.78-.78 2.05 0 2.83L4 21.41c.39.39.9.59 1.41.59.51 0 1.02-.2 1.41-.59l7.78-7.78 2.81-2.81c.8-.78.8-2.07 0-2.86zM5.41 20L4 18.59l7.72-7.72 1.47 1.35L5.41 20z\"/>\n",
              "  </svg>\n",
              "      </button>\n",
              "      \n",
              "  <style>\n",
              "    .colab-df-container {\n",
              "      display:flex;\n",
              "      flex-wrap:wrap;\n",
              "      gap: 12px;\n",
              "    }\n",
              "\n",
              "    .colab-df-convert {\n",
              "      background-color: #E8F0FE;\n",
              "      border: none;\n",
              "      border-radius: 50%;\n",
              "      cursor: pointer;\n",
              "      display: none;\n",
              "      fill: #1967D2;\n",
              "      height: 32px;\n",
              "      padding: 0 0 0 0;\n",
              "      width: 32px;\n",
              "    }\n",
              "\n",
              "    .colab-df-convert:hover {\n",
              "      background-color: #E2EBFA;\n",
              "      box-shadow: 0px 1px 2px rgba(60, 64, 67, 0.3), 0px 1px 3px 1px rgba(60, 64, 67, 0.15);\n",
              "      fill: #174EA6;\n",
              "    }\n",
              "\n",
              "    [theme=dark] .colab-df-convert {\n",
              "      background-color: #3B4455;\n",
              "      fill: #D2E3FC;\n",
              "    }\n",
              "\n",
              "    [theme=dark] .colab-df-convert:hover {\n",
              "      background-color: #434B5C;\n",
              "      box-shadow: 0px 1px 3px 1px rgba(0, 0, 0, 0.15);\n",
              "      filter: drop-shadow(0px 1px 2px rgba(0, 0, 0, 0.3));\n",
              "      fill: #FFFFFF;\n",
              "    }\n",
              "  </style>\n",
              "\n",
              "      <script>\n",
              "        const buttonEl =\n",
              "          document.querySelector('#df-73beb93f-c478-4bbb-bb0e-e4dd557c1f3f button.colab-df-convert');\n",
              "        buttonEl.style.display =\n",
              "          google.colab.kernel.accessAllowed ? 'block' : 'none';\n",
              "\n",
              "        async function convertToInteractive(key) {\n",
              "          const element = document.querySelector('#df-73beb93f-c478-4bbb-bb0e-e4dd557c1f3f');\n",
              "          const dataTable =\n",
              "            await google.colab.kernel.invokeFunction('convertToInteractive',\n",
              "                                                     [key], {});\n",
              "          if (!dataTable) return;\n",
              "\n",
              "          const docLinkHtml = 'Like what you see? Visit the ' +\n",
              "            '<a target=\"_blank\" href=https://colab.research.google.com/notebooks/data_table.ipynb>data table notebook</a>'\n",
              "            + ' to learn more about interactive tables.';\n",
              "          element.innerHTML = '';\n",
              "          dataTable['output_type'] = 'display_data';\n",
              "          await google.colab.output.renderOutput(dataTable, element);\n",
              "          const docLink = document.createElement('div');\n",
              "          docLink.innerHTML = docLinkHtml;\n",
              "          element.appendChild(docLink);\n",
              "        }\n",
              "      </script>\n",
              "    </div>\n",
              "  </div>\n",
              "  "
            ]
          },
          "metadata": {},
          "execution_count": 69
        }
      ]
    },
    {
      "cell_type": "code",
      "source": [
        "ri_pred"
      ],
      "metadata": {
        "colab": {
          "base_uri": "https://localhost:8080/"
        },
        "id": "OtMSG0vsQRTD",
        "outputId": "ca7cbda2-267d-415a-c4a8-c44b175de079"
      },
      "execution_count": null,
      "outputs": [
        {
          "output_type": "execute_result",
          "data": {
            "text/plain": [
              "array([ 1.41929993e+01,  1.92612467e+01, -1.84335649e+00,  8.55860550e+01,\n",
              "       -4.48817429e-01,  3.02856641e+00,  7.92623828e+01,  1.60266162e+01,\n",
              "        6.22827633e-01, -4.65330491e+00,  5.50733154e+00,  2.34431962e+01,\n",
              "       -1.30275568e+01,  2.31103160e+00,  3.77875027e-01,  6.70945583e+01,\n",
              "       -1.19032770e+00,  1.13117754e+01,  2.85281525e+01,  1.82884207e+01,\n",
              "       -5.74045299e+00,  1.22217981e+01,  6.45165583e+01, -5.18238908e+00,\n",
              "        5.39708401e+01,  1.09639765e+01, -3.44298289e+00,  8.25421204e+00,\n",
              "        3.82731846e+01, -2.11188247e+00,  3.36395168e-01, -4.43963493e+00,\n",
              "        4.42827752e+01, -4.87858034e+00, -6.78038434e-01, -3.89739933e+00,\n",
              "        1.75322965e+01, -1.26658147e+00, -8.34863581e-02,  8.84933738e+01,\n",
              "       -4.36600094e+00,  3.05913860e+00, -3.23758891e+00,  4.92928059e-01,\n",
              "        3.34852602e+01,  2.10073181e+00, -3.58114806e+00,  1.27332736e+00,\n",
              "        9.34447117e+01, -4.18322153e+00, -5.71834075e+00,  1.53238733e+01,\n",
              "        2.42481161e+00,  1.37749106e+01, -3.16576540e+00,  7.58113998e+01,\n",
              "       -3.96808657e+00, -4.46231055e+00, -1.35785935e+00,  1.09721003e+00,\n",
              "       -3.92252165e+00])"
            ]
          },
          "metadata": {},
          "execution_count": 50
        }
      ]
    }
  ]
}