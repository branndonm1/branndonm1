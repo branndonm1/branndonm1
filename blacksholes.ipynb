{
  "nbformat": 4,
  "nbformat_minor": 0,
  "metadata": {
    "colab": {
      "provenance": [],
      "authorship_tag": "ABX9TyMRrB4z4U2E/G1wHi/gYjZB",
      "include_colab_link": true
    },
    "kernelspec": {
      "name": "python3",
      "display_name": "Python 3"
    },
    "language_info": {
      "name": "python"
    }
  },
  "cells": [
    {
      "cell_type": "markdown",
      "metadata": {
        "id": "view-in-github",
        "colab_type": "text"
      },
      "source": [
        "<a href=\"https://colab.research.google.com/github/branndonm1/branndonm1/blob/main/blacksholes.ipynb\" target=\"_parent\"><img src=\"https://colab.research.google.com/assets/colab-badge.svg\" alt=\"Open In Colab\"/></a>"
      ]
    },
    {
      "cell_type": "code",
      "source": [
        "pip install yfinance"
      ],
      "metadata": {
        "colab": {
          "base_uri": "https://localhost:8080/"
        },
        "id": "0QtqkY_8KZn9",
        "outputId": "e20d1d2e-a037-4579-b4ef-00642c7bf07d"
      },
      "execution_count": null,
      "outputs": [
        {
          "output_type": "stream",
          "name": "stdout",
          "text": [
            "Requirement already satisfied: yfinance in /usr/local/lib/python3.10/dist-packages (0.2.35)\n",
            "Requirement already satisfied: pandas>=1.3.0 in /usr/local/lib/python3.10/dist-packages (from yfinance) (1.5.3)\n",
            "Requirement already satisfied: numpy>=1.16.5 in /usr/local/lib/python3.10/dist-packages (from yfinance) (1.23.5)\n",
            "Requirement already satisfied: requests>=2.31 in /usr/local/lib/python3.10/dist-packages (from yfinance) (2.31.0)\n",
            "Requirement already satisfied: multitasking>=0.0.7 in /usr/local/lib/python3.10/dist-packages (from yfinance) (0.0.11)\n",
            "Requirement already satisfied: lxml>=4.9.1 in /usr/local/lib/python3.10/dist-packages (from yfinance) (4.9.4)\n",
            "Requirement already satisfied: appdirs>=1.4.4 in /usr/local/lib/python3.10/dist-packages (from yfinance) (1.4.4)\n",
            "Requirement already satisfied: pytz>=2022.5 in /usr/local/lib/python3.10/dist-packages (from yfinance) (2023.3.post1)\n",
            "Requirement already satisfied: frozendict>=2.3.4 in /usr/local/lib/python3.10/dist-packages (from yfinance) (2.4.0)\n",
            "Requirement already satisfied: peewee>=3.16.2 in /usr/local/lib/python3.10/dist-packages (from yfinance) (3.17.0)\n",
            "Requirement already satisfied: beautifulsoup4>=4.11.1 in /usr/local/lib/python3.10/dist-packages (from yfinance) (4.11.2)\n",
            "Requirement already satisfied: html5lib>=1.1 in /usr/local/lib/python3.10/dist-packages (from yfinance) (1.1)\n",
            "Requirement already satisfied: soupsieve>1.2 in /usr/local/lib/python3.10/dist-packages (from beautifulsoup4>=4.11.1->yfinance) (2.5)\n",
            "Requirement already satisfied: six>=1.9 in /usr/local/lib/python3.10/dist-packages (from html5lib>=1.1->yfinance) (1.16.0)\n",
            "Requirement already satisfied: webencodings in /usr/local/lib/python3.10/dist-packages (from html5lib>=1.1->yfinance) (0.5.1)\n",
            "Requirement already satisfied: python-dateutil>=2.8.1 in /usr/local/lib/python3.10/dist-packages (from pandas>=1.3.0->yfinance) (2.8.2)\n",
            "Requirement already satisfied: charset-normalizer<4,>=2 in /usr/local/lib/python3.10/dist-packages (from requests>=2.31->yfinance) (3.3.2)\n",
            "Requirement already satisfied: idna<4,>=2.5 in /usr/local/lib/python3.10/dist-packages (from requests>=2.31->yfinance) (3.6)\n",
            "Requirement already satisfied: urllib3<3,>=1.21.1 in /usr/local/lib/python3.10/dist-packages (from requests>=2.31->yfinance) (2.0.7)\n",
            "Requirement already satisfied: certifi>=2017.4.17 in /usr/local/lib/python3.10/dist-packages (from requests>=2.31->yfinance) (2023.11.17)\n"
          ]
        }
      ]
    },
    {
      "cell_type": "code",
      "source": [
        "import yfinance as yf\n",
        "import numpy as np\n",
        "import matplotlib.pyplot as plt\n",
        "from scipy.stats import norm"
      ],
      "metadata": {
        "id": "APmMtq0WLfsc"
      },
      "execution_count": null,
      "outputs": []
    },
    {
      "cell_type": "code",
      "source": [
        "def get_current_stock_price(symbol):\n",
        "    try:\n",
        "        stock = yf.Ticker(symbol)\n",
        "        current_price = stock.info['ask']\n",
        "        return current_price\n",
        "    except Exception as e:\n",
        "        print(f\"Error: {e}\")\n",
        "        return None\n",
        "\n",
        "# Apple's stock symbol is AAPL\n",
        "apple_stock_price = get_current_stock_price('AAPL')\n",
        "\n",
        "if apple_stock_price is not None:\n",
        "    print(f\"Apple's current stock price: ${apple_stock_price}\")"
      ],
      "metadata": {
        "colab": {
          "base_uri": "https://localhost:8080/"
        },
        "id": "UnT8Mi-xKP_y",
        "outputId": "47db4ef6-23ca-4d92-ebc1-2ff9bd2c2e92"
      },
      "execution_count": null,
      "outputs": [
        {
          "output_type": "stream",
          "name": "stdout",
          "text": [
            "Apple's current stock price: $191.87\n"
          ]
        }
      ]
    },
    {
      "cell_type": "code",
      "source": [
        "def get_historical_stock_data(symbol, start_date, end_date):\n",
        "    try:\n",
        "        stock = yf.Ticker(symbol)\n",
        "        data = stock.history(start=start_date, end=end_date)\n",
        "        return data\n",
        "    except Exception as e:\n",
        "        print(f\"Error: {e}\")\n",
        "        return None\n",
        "\n",
        "def calculate_volatility(stock_data):\n",
        "    if stock_data is not None and not stock_data.empty:\n",
        "        returns = stock_data['Close'].pct_change().dropna()\n",
        "        volatility = np.std(returns)\n",
        "        annualized_volatility = volatility * np.sqrt(252)  # Assuming 252 trading days in a year\n",
        "        return annualized_volatility\n",
        "    else:\n",
        "        return None\n",
        "\n",
        "# Replace 'AAPL' with the stock symbol of Apple or any other stock you are interested in\n",
        "stock_symbol = 'AAPL'\n",
        "start_date = '2023-01-01'  # Replace with the desired start date\n",
        "end_date = '2024-01-01'    # Replace with the desired end date\n",
        "\n",
        "historical_data = get_historical_stock_data(stock_symbol, start_date, end_date)\n",
        "volatility = calculate_volatility(historical_data)\n",
        "\n",
        "if volatility is not None:\n",
        "    print(f\"Approximate annualized volatility of {stock_symbol} stock: {volatility:.2%}\")\n",
        "else:\n",
        "    print(\"Failed to retrieve historical stock data.\")"
      ],
      "metadata": {
        "colab": {
          "base_uri": "https://localhost:8080/"
        },
        "id": "6rUnBZ85LcxM",
        "outputId": "98576f47-49f4-4a82-8c64-41df71f1a1e2"
      },
      "execution_count": null,
      "outputs": [
        {
          "output_type": "stream",
          "name": "stdout",
          "text": [
            "Approximate annualized volatility of AAPL stock: 19.91%\n"
          ]
        }
      ]
    },
    {
      "cell_type": "code",
      "execution_count": null,
      "metadata": {
        "colab": {
          "base_uri": "https://localhost:8080/",
          "height": 560
        },
        "id": "ImbOpeNzJjCy",
        "outputId": "158a18f1-5888-4ffb-d29c-22735604d476"
      },
      "outputs": [
        {
          "output_type": "stream",
          "name": "stderr",
          "text": [
            "<ipython-input-16-40ac9bf0ba47>:2: RuntimeWarning: divide by zero encountered in double_scalars\n",
            "  d1 = (np.log(current_price / strike_price) + (interest_rate + 0.5 * volatility**2) * time_to_maturity) / (volatility * np.sqrt(time_to_maturity))\n"
          ]
        },
        {
          "output_type": "display_data",
          "data": {
            "text/plain": [
              "<Figure size 640x480 with 1 Axes>"
            ],
            "image/png": "[encoded data removed]"
          },
          "metadata": {}
        },
        {
          "output_type": "stream",
          "name": "stdout",
          "text": [
            "191.87\n",
            "[191.85745654457105, 191.856137359054, 191.8546794379185, 191.8530681910994, 191.85128749426275, 191.84931952748303, 191.84714459696116, 191.8447409380019, 191.8420844972815, 191.8391486922296, 191.83590414512156, 191.8323183892246, 191.82835554406327, 191.82397595656025, 191.81913580447116, 191.8137866581537, 191.80787499629815, 191.80134167078808, 191.79412131535392, 191.78614169212292, 191.77732296955332, 191.76757692455786, 191.75680606087204, 191.7449026348897, 191.73174757927558, 191.71720931365064, 191.70114243053274, 191.68338624348308, 191.6637631830517, 191.64207702461823, 191.61811093057372, 191.59162528746822, 191.56235531674477, 191.53000843547, 191.49426134103723, 191.4547567911404, 191.41110004736527, 191.36285494750243, 191.30953956811777, 191.25062143499636, 191.1855122347702, 191.11356197631315, 191.0340525453066, 190.94619058969744, 190.84909966755646, 190.74181158204667, 190.6232568207884, 190.49225400881562, 190.34749827550232, 190.18754842626606, 190.01081279947078, 189.81553367772477, 189.59977011066104, 189.3613789932788, 189.09799423000405, 188.80700379980343, 188.4855245219998, 188.13037430595634, 187.7380416506427, 187.30465214245234, 186.82593168176848, 186.2971661510515, 185.71315722015223, 185.06817396884426, 184.35589999314124, 183.5693756520713, 182.7009351068629, 181.74213780713174, 180.68369409151038, 179.51538459700316, 178.22597321715023, 176.8031134204074, 175.23324784568112, 173.50150124324608, 171.59156704175751, 169.48558811650616, 167.16403273861224, 164.60556723804504, 161.7869276685182, 158.6827937942015, 155.26567013317214, 151.5057807445376, 147.37098716239922, 142.82674270320524, 137.83610183446046, 132.35981123826195, 126.35652102588914, 119.78317264069156, 112.5956485703559, 104.74981601555615, 96.20317782090038, 86.9174923165777, 76.86301425483933, 66.02562782507036, 54.419604245496075, 42.112650932264046, 29.282506111193925, 16.375641324801194, 4.742183871105922, 0.0]\n"
          ]
        }
      ],
      "source": [
        "def black_scholes(current_price, strike_price, time_to_maturity, volatility, interest_rate):\n",
        "    d1 = (np.log(current_price / strike_price) + (interest_rate + 0.5 * volatility**2) * time_to_maturity) / (volatility * np.sqrt(time_to_maturity))\n",
        "    d2 = d1 - volatility * np.sqrt(time_to_maturity)\n",
        "    call_price = current_price * norm.cdf(d1) - strike_price * np.exp(-interest_rate * time_to_maturity) * norm.cdf(d2)\n",
        "    return call_price\n",
        "\n",
        "def calculate_arbitrage_free_prices(current_price, time_steps, volatility, interest_rate):\n",
        "    prices = []\n",
        "    time_points = np.arange(1, time_steps + 1)\n",
        "\n",
        "    for t in time_points:\n",
        "        time_to_maturity = time_steps-t\n",
        "        arbitrage_free_price = black_scholes(current_price, 250, time_to_maturity, volatility, interest_rate)\n",
        "        prices.append(arbitrage_free_price)\n",
        "\n",
        "    return time_points, prices\n",
        "\n",
        "def plot_prices(time_points, prices):\n",
        "    plt.plot(time_points, prices, label='Arbitrage-Free Prices')\n",
        "    plt.xlabel('Time Steps')\n",
        "    plt.ylabel('Price')\n",
        "    plt.title('Arbitrage-Free Prices of Apple Stock Over Time')\n",
        "    plt.legend()\n",
        "    plt.show()\n",
        "\n",
        "# Parameters\n",
        "current_price = apple_stock_price  # Replace with the current price of Apple stock\n",
        "time_steps = 100\n",
        "volatility = volatility  # Replace with the desired volatility\n",
        "interest_rate = .10  # Replace with the desired interest rate\n",
        "\n",
        "# Calculate prices and plot\n",
        "time_points, prices = calculate_arbitrage_free_prices(current_price, time_steps, volatility, interest_rate)\n",
        "plot_prices(time_points, prices)\n",
        "\n",
        "print(apple_stock_price)\n",
        "print(prices)"
      ]
    }
  ]
}